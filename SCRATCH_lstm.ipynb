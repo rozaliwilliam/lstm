{
 "cells": [
  {
   "cell_type": "code",
   "execution_count": 3,
   "metadata": {},
   "outputs": [],
   "source": [
    "import torch\n",
    "import torch.nn as nn\n",
    "import torch.nn.functional as F\n",
    "from torch.optim import Adam\n",
    "\n",
    "import lightning as L\n",
    "from torch.utils.data import DataLoader, TensorDataset"
   ]
  },
  {
   "cell_type": "code",
   "execution_count": 4,
   "metadata": {},
   "outputs": [],
   "source": [
    "class LSTMbyhand(L.LightningModule):\n",
    "    def __init__(self):\n",
    "        # initialize weights and bias\n",
    "        super().__init__()\n",
    "        mean = torch.tensor(0.0)\n",
    "        std = torch.tensor(1.0)\n",
    "        self.wlr1 = nn.Parameter(torch.normal(mean=mean, std=std), requires_grad=True)\n",
    "        self.wlr2 = nn.Parameter(torch.normal(mean=mean, std=std), requires_grad=True)\n",
    "        self.blr1 = nn.parameter(torch.tensor(0.0), requires_grad = True)\n",
    "\n",
    "        self.wpr1 = nn.Parameter(torch.normal(mean=mean, std=std), requires_grad=True)\n",
    "        self.wpr2 = nn.Parameter(torch.normal(mean=mean, std=std), requires_grad=True)\n",
    "        self.bpr1 = nn.parameter(torch.tensor(0.0), requires_grad = True)\n",
    "\n",
    "        self.wp1 = nn.Parameter(torch.normal(mean=mean, std=std), requires_grad=True)\n",
    "        self.wp2 = nn.Parameter(torch.normal(mean=mean, std=std), requires_grad=True)\n",
    "        self.bp1 = nn.parameter(torch.tensor(0.0), requires_grad = True)\n",
    "\n",
    "        self.wo1 = nn.Parameter(torch.normal(mean=mean, std=std), requires_grad=True)\n",
    "        self.wo2 = nn.Parameter(torch.normal(mean=mean, std=std), requires_grad=True)\n",
    "        self.bo1 = nn.parameter(torch.tensor(0.0), requires_grad = True)\n",
    "\n",
    "\n",
    "    def lstm_unit(self, input_value, Short_memory, long_memory):\n",
    "        # do the Math\n",
    "        long_remember_percent = torch.sigmoid((Short_memory*self.wlr1)+(input_value*self.wlr2)+self.blr1)\n",
    "        potential_remember_percent = torch.sigmoid((Short_memory*self.wpr1)+(input_value*self.wpr2)+self.bpr1)\n",
    "        potential_memory = torch.tanh((Short_memory*self.wp1)+(input_value*self.wp2)+self.bp1)\n",
    "\n",
    "        updated_long_memory = ((long_memory*long_remember_percent)+(potential_memory*potential_remember_percent))\n",
    "        \n",
    "        output_percent = torch.sigmoid((Short_memory*self.wo1)+ (input_value*self.wo2)+self.bo1)\n",
    "        updated_short_memory = torch.tanh(updated_long_memory*output_percent)\n",
    "\n",
    "        return([updated_long_memory,updated_short_memory])\n",
    "    \n",
    "\n",
    "    def forward(self,input):\n",
    "        long_memory = 0\n",
    "        short_memory = 0 \n",
    "        day1 = input[0]\n",
    "        day2 = input[1]\n",
    "        day3 = input[2]\n",
    "        day4 = input[3]\n",
    "\n",
    "        long_memory,short_memory = lstm_unit(day1, long_memory, short_memory)\n",
    "        long_memory,short_memory = lstm_unit(day2, long_memory, short_memory)\n",
    "        long_memory,short_memory = lstm_unit(day3, long_memory, short_memory)\n",
    "        long_memory,short_memory = lstm_unit(day1, long_memory, short_memory)\n",
    "        return short_memory\n",
    "    \n",
    "\n",
    "    def configure_optimizer(self):\n",
    "        # configure Adam optimizer\n",
    "        return Adam(self.parameters())\n",
    "    \n",
    "\n",
    "    def training_step(self,batch,batch_index):\n",
    "        input_i,label_i = batch\n",
    "        output_i = self.forward(input_i[0])\n",
    "        loss = (output_i-label_i)**2\n",
    "\n",
    "        self.log(\"training_loss\", loss)\n",
    "\n",
    "        if (label_i == 0):\n",
    "            self.log(\"out_0\", output_i)\n",
    "        else:\n",
    "            self.log(\"out_1\", output_i)\n",
    "        return loss\n",
    "    \n",
    "\n"
   ]
  },
  {
   "cell_type": "code",
   "execution_count": null,
   "metadata": {},
   "outputs": [],
   "source": [
    "model = LSTMbyhand()\n",
    "\n"
   ]
  }
 ],
 "metadata": {
  "kernelspec": {
   "display_name": "Python 3",
   "language": "python",
   "name": "python3"
  },
  "language_info": {
   "codemirror_mode": {
    "name": "ipython",
    "version": 3
   },
   "file_extension": ".py",
   "mimetype": "text/x-python",
   "name": "python",
   "nbconvert_exporter": "python",
   "pygments_lexer": "ipython3",
   "version": "3.12.3"
  }
 },
 "nbformat": 4,
 "nbformat_minor": 2
}
